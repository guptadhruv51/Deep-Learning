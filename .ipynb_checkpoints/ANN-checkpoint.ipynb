{
 "cells": [
  {
   "cell_type": "code",
   "execution_count": 15,
   "metadata": {},
   "outputs": [],
   "source": [
    "import numpy as np\n",
    "import pandas as pd\n",
    "import matplotlib.pyplot as plt\n",
    "import seaborn as sns\n",
    "%matplotlib inline"
   ]
  },
  {
   "cell_type": "code",
   "execution_count": 16,
   "metadata": {},
   "outputs": [
    {
     "data": {
      "text/html": [
       "<div>\n",
       "<style scoped>\n",
       "    .dataframe tbody tr th:only-of-type {\n",
       "        vertical-align: middle;\n",
       "    }\n",
       "\n",
       "    .dataframe tbody tr th {\n",
       "        vertical-align: top;\n",
       "    }\n",
       "\n",
       "    .dataframe thead th {\n",
       "        text-align: right;\n",
       "    }\n",
       "</style>\n",
       "<table border=\"1\" class=\"dataframe\">\n",
       "  <thead>\n",
       "    <tr style=\"text-align: right;\">\n",
       "      <th></th>\n",
       "      <th>RowNumber</th>\n",
       "      <th>CustomerId</th>\n",
       "      <th>Surname</th>\n",
       "      <th>CreditScore</th>\n",
       "      <th>Geography</th>\n",
       "      <th>Gender</th>\n",
       "      <th>Age</th>\n",
       "      <th>Tenure</th>\n",
       "      <th>Balance</th>\n",
       "      <th>NumOfProducts</th>\n",
       "      <th>HasCrCard</th>\n",
       "      <th>IsActiveMember</th>\n",
       "      <th>EstimatedSalary</th>\n",
       "      <th>Exited</th>\n",
       "    </tr>\n",
       "  </thead>\n",
       "  <tbody>\n",
       "    <tr>\n",
       "      <th>0</th>\n",
       "      <td>1</td>\n",
       "      <td>15634602</td>\n",
       "      <td>Hargrave</td>\n",
       "      <td>619</td>\n",
       "      <td>France</td>\n",
       "      <td>Female</td>\n",
       "      <td>42</td>\n",
       "      <td>2</td>\n",
       "      <td>0.00</td>\n",
       "      <td>1</td>\n",
       "      <td>1</td>\n",
       "      <td>1</td>\n",
       "      <td>101348.88</td>\n",
       "      <td>1</td>\n",
       "    </tr>\n",
       "    <tr>\n",
       "      <th>1</th>\n",
       "      <td>2</td>\n",
       "      <td>15647311</td>\n",
       "      <td>Hill</td>\n",
       "      <td>608</td>\n",
       "      <td>Spain</td>\n",
       "      <td>Female</td>\n",
       "      <td>41</td>\n",
       "      <td>1</td>\n",
       "      <td>83807.86</td>\n",
       "      <td>1</td>\n",
       "      <td>0</td>\n",
       "      <td>1</td>\n",
       "      <td>112542.58</td>\n",
       "      <td>0</td>\n",
       "    </tr>\n",
       "    <tr>\n",
       "      <th>2</th>\n",
       "      <td>3</td>\n",
       "      <td>15619304</td>\n",
       "      <td>Onio</td>\n",
       "      <td>502</td>\n",
       "      <td>France</td>\n",
       "      <td>Female</td>\n",
       "      <td>42</td>\n",
       "      <td>8</td>\n",
       "      <td>159660.80</td>\n",
       "      <td>3</td>\n",
       "      <td>1</td>\n",
       "      <td>0</td>\n",
       "      <td>113931.57</td>\n",
       "      <td>1</td>\n",
       "    </tr>\n",
       "    <tr>\n",
       "      <th>3</th>\n",
       "      <td>4</td>\n",
       "      <td>15701354</td>\n",
       "      <td>Boni</td>\n",
       "      <td>699</td>\n",
       "      <td>France</td>\n",
       "      <td>Female</td>\n",
       "      <td>39</td>\n",
       "      <td>1</td>\n",
       "      <td>0.00</td>\n",
       "      <td>2</td>\n",
       "      <td>0</td>\n",
       "      <td>0</td>\n",
       "      <td>93826.63</td>\n",
       "      <td>0</td>\n",
       "    </tr>\n",
       "    <tr>\n",
       "      <th>4</th>\n",
       "      <td>5</td>\n",
       "      <td>15737888</td>\n",
       "      <td>Mitchell</td>\n",
       "      <td>850</td>\n",
       "      <td>Spain</td>\n",
       "      <td>Female</td>\n",
       "      <td>43</td>\n",
       "      <td>2</td>\n",
       "      <td>125510.82</td>\n",
       "      <td>1</td>\n",
       "      <td>1</td>\n",
       "      <td>1</td>\n",
       "      <td>79084.10</td>\n",
       "      <td>0</td>\n",
       "    </tr>\n",
       "  </tbody>\n",
       "</table>\n",
       "</div>"
      ],
      "text/plain": [
       "   RowNumber  CustomerId   Surname  CreditScore Geography  Gender  Age  \\\n",
       "0          1    15634602  Hargrave          619    France  Female   42   \n",
       "1          2    15647311      Hill          608     Spain  Female   41   \n",
       "2          3    15619304      Onio          502    France  Female   42   \n",
       "3          4    15701354      Boni          699    France  Female   39   \n",
       "4          5    15737888  Mitchell          850     Spain  Female   43   \n",
       "\n",
       "   Tenure    Balance  NumOfProducts  HasCrCard  IsActiveMember  \\\n",
       "0       2       0.00              1          1               1   \n",
       "1       1   83807.86              1          0               1   \n",
       "2       8  159660.80              3          1               0   \n",
       "3       1       0.00              2          0               0   \n",
       "4       2  125510.82              1          1               1   \n",
       "\n",
       "   EstimatedSalary  Exited  \n",
       "0        101348.88       1  \n",
       "1        112542.58       0  \n",
       "2        113931.57       1  \n",
       "3         93826.63       0  \n",
       "4         79084.10       0  "
      ]
     },
     "execution_count": 16,
     "metadata": {},
     "output_type": "execute_result"
    }
   ],
   "source": [
    "data=pd.read_csv('Churn_Modelling.csv')\n",
    "data.head()"
   ]
  },
  {
   "cell_type": "code",
   "execution_count": 17,
   "metadata": {},
   "outputs": [],
   "source": [
    "X=data.iloc[:,3:13]\n",
    "y=data['Exited']"
   ]
  },
  {
   "cell_type": "code",
   "execution_count": 18,
   "metadata": {},
   "outputs": [],
   "source": [
    "geography=pd.get_dummies(X['Geography'],drop_first=True)\n",
    "gender=pd.get_dummies(X['Gender'],drop_first=True)"
   ]
  },
  {
   "cell_type": "code",
   "execution_count": 19,
   "metadata": {},
   "outputs": [
    {
     "data": {
      "text/html": [
       "<div>\n",
       "<style scoped>\n",
       "    .dataframe tbody tr th:only-of-type {\n",
       "        vertical-align: middle;\n",
       "    }\n",
       "\n",
       "    .dataframe tbody tr th {\n",
       "        vertical-align: top;\n",
       "    }\n",
       "\n",
       "    .dataframe thead th {\n",
       "        text-align: right;\n",
       "    }\n",
       "</style>\n",
       "<table border=\"1\" class=\"dataframe\">\n",
       "  <thead>\n",
       "    <tr style=\"text-align: right;\">\n",
       "      <th></th>\n",
       "      <th>CreditScore</th>\n",
       "      <th>Age</th>\n",
       "      <th>Tenure</th>\n",
       "      <th>Balance</th>\n",
       "      <th>NumOfProducts</th>\n",
       "      <th>HasCrCard</th>\n",
       "      <th>IsActiveMember</th>\n",
       "      <th>EstimatedSalary</th>\n",
       "      <th>Germany</th>\n",
       "      <th>Spain</th>\n",
       "      <th>Male</th>\n",
       "    </tr>\n",
       "  </thead>\n",
       "  <tbody>\n",
       "    <tr>\n",
       "      <th>0</th>\n",
       "      <td>619</td>\n",
       "      <td>42</td>\n",
       "      <td>2</td>\n",
       "      <td>0.00</td>\n",
       "      <td>1</td>\n",
       "      <td>1</td>\n",
       "      <td>1</td>\n",
       "      <td>101348.88</td>\n",
       "      <td>0</td>\n",
       "      <td>0</td>\n",
       "      <td>0</td>\n",
       "    </tr>\n",
       "    <tr>\n",
       "      <th>1</th>\n",
       "      <td>608</td>\n",
       "      <td>41</td>\n",
       "      <td>1</td>\n",
       "      <td>83807.86</td>\n",
       "      <td>1</td>\n",
       "      <td>0</td>\n",
       "      <td>1</td>\n",
       "      <td>112542.58</td>\n",
       "      <td>0</td>\n",
       "      <td>1</td>\n",
       "      <td>0</td>\n",
       "    </tr>\n",
       "    <tr>\n",
       "      <th>2</th>\n",
       "      <td>502</td>\n",
       "      <td>42</td>\n",
       "      <td>8</td>\n",
       "      <td>159660.80</td>\n",
       "      <td>3</td>\n",
       "      <td>1</td>\n",
       "      <td>0</td>\n",
       "      <td>113931.57</td>\n",
       "      <td>0</td>\n",
       "      <td>0</td>\n",
       "      <td>0</td>\n",
       "    </tr>\n",
       "    <tr>\n",
       "      <th>3</th>\n",
       "      <td>699</td>\n",
       "      <td>39</td>\n",
       "      <td>1</td>\n",
       "      <td>0.00</td>\n",
       "      <td>2</td>\n",
       "      <td>0</td>\n",
       "      <td>0</td>\n",
       "      <td>93826.63</td>\n",
       "      <td>0</td>\n",
       "      <td>0</td>\n",
       "      <td>0</td>\n",
       "    </tr>\n",
       "    <tr>\n",
       "      <th>4</th>\n",
       "      <td>850</td>\n",
       "      <td>43</td>\n",
       "      <td>2</td>\n",
       "      <td>125510.82</td>\n",
       "      <td>1</td>\n",
       "      <td>1</td>\n",
       "      <td>1</td>\n",
       "      <td>79084.10</td>\n",
       "      <td>0</td>\n",
       "      <td>1</td>\n",
       "      <td>0</td>\n",
       "    </tr>\n",
       "  </tbody>\n",
       "</table>\n",
       "</div>"
      ],
      "text/plain": [
       "   CreditScore  Age  Tenure    Balance  NumOfProducts  HasCrCard  \\\n",
       "0          619   42       2       0.00              1          1   \n",
       "1          608   41       1   83807.86              1          0   \n",
       "2          502   42       8  159660.80              3          1   \n",
       "3          699   39       1       0.00              2          0   \n",
       "4          850   43       2  125510.82              1          1   \n",
       "\n",
       "   IsActiveMember  EstimatedSalary  Germany  Spain  Male  \n",
       "0               1        101348.88        0      0     0  \n",
       "1               1        112542.58        0      1     0  \n",
       "2               0        113931.57        0      0     0  \n",
       "3               0         93826.63        0      0     0  \n",
       "4               1         79084.10        0      1     0  "
      ]
     },
     "execution_count": 19,
     "metadata": {},
     "output_type": "execute_result"
    }
   ],
   "source": [
    "X=pd.concat([X,geography,gender],axis=1)\n",
    "X.drop(['Geography','Gender'],axis=1,inplace=True)\n",
    "X.head()"
   ]
  },
  {
   "cell_type": "code",
   "execution_count": 20,
   "metadata": {},
   "outputs": [
    {
     "name": "stdout",
     "output_type": "stream",
     "text": [
      "(8000, 11) (8000,)\n",
      "(2000, 11) (2000,)\n"
     ]
    }
   ],
   "source": [
    "from sklearn.model_selection import train_test_split\n",
    "X_train,X_val,y_train,y_val=train_test_split(X,y,test_size=0.2,random_state=42)\n",
    "print(X_train.shape,y_train.shape)\n",
    "print(X_val.shape,y_val.shape)"
   ]
  },
  {
   "cell_type": "code",
   "execution_count": 22,
   "metadata": {},
   "outputs": [],
   "source": [
    "from sklearn.preprocessing import StandardScaler\n",
    "std=StandardScaler()\n",
    "X_train=std.fit_transform(X_train)\n",
    "X_val=std.transform(X_val)"
   ]
  },
  {
   "cell_type": "code",
   "execution_count": 51,
   "metadata": {},
   "outputs": [],
   "source": [
    "y_train=np.asarray(y_train)\n",
    "y_val=np.asarray(y_val)"
   ]
  },
  {
   "cell_type": "code",
   "execution_count": 52,
   "metadata": {},
   "outputs": [],
   "source": [
    "import tensorflow as tf\n",
    "from tensorflow import keras"
   ]
  },
  {
   "cell_type": "code",
   "execution_count": 53,
   "metadata": {},
   "outputs": [],
   "source": [
    "from tensorflow.keras.layers import Dense,Dropout,ReLU,LeakyReLU,PReLU\n",
    "from tensorflow.keras.models import Sequential"
   ]
  },
  {
   "cell_type": "code",
   "execution_count": 54,
   "metadata": {},
   "outputs": [],
   "source": [
    "classifier=Sequential()"
   ]
  },
  {
   "cell_type": "code",
   "execution_count": 55,
   "metadata": {},
   "outputs": [
    {
     "name": "stdout",
     "output_type": "stream",
     "text": [
      "Model: \"sequential_1\"\n",
      "_________________________________________________________________\n",
      "Layer (type)                 Output Shape              Param #   \n",
      "=================================================================\n",
      "dense_3 (Dense)              (None, 6)                 72        \n",
      "_________________________________________________________________\n",
      "dense_4 (Dense)              (None, 6)                 42        \n",
      "_________________________________________________________________\n",
      "dense_5 (Dense)              (None, 1)                 7         \n",
      "=================================================================\n",
      "Total params: 121\n",
      "Trainable params: 121\n",
      "Non-trainable params: 0\n",
      "_________________________________________________________________\n"
     ]
    }
   ],
   "source": [
    "classifier.add(Dense(6,kernel_initializer='he_uniform',input_dim=11,activation='relu'))\n",
    "classifier.add(Dense(6,kernel_initializer= 'he_uniform',activation='relu'))\n",
    "classifier.add(Dense(1, kernel_initializer = 'glorot_uniform', activation = 'sigmoid'))\n",
    "classifier.summary()"
   ]
  },
  {
   "cell_type": "code",
   "execution_count": 56,
   "metadata": {},
   "outputs": [],
   "source": [
    "classifier.compile(optimizer = 'Adamax', loss = 'binary_crossentropy', metrics = ['accuracy'])"
   ]
  },
  {
   "cell_type": "code",
   "execution_count": 57,
   "metadata": {},
   "outputs": [
    {
     "name": "stderr",
     "output_type": "stream",
     "text": [
      "W0711 00:00:41.974266 4395347392 training.py:701] The `nb_epoch` argument in `fit` has been renamed `epochs`.\n"
     ]
    },
    {
     "name": "stdout",
     "output_type": "stream",
     "text": [
      "Train on 5359 samples, validate on 2641 samples\n",
      "Epoch 1/100\n",
      "5359/5359 [==============================] - 3s 503us/sample - loss: 0.6318 - accuracy: 0.6673 - val_loss: 0.5518 - val_accuracy: 0.7864\n",
      "Epoch 2/100\n",
      "5359/5359 [==============================] - 2s 284us/sample - loss: 0.5232 - accuracy: 0.7947 - val_loss: 0.5067 - val_accuracy: 0.7910\n",
      "Epoch 3/100\n",
      "5359/5359 [==============================] - 2s 282us/sample - loss: 0.4911 - accuracy: 0.7970 - val_loss: 0.4839 - val_accuracy: 0.7921\n",
      "Epoch 4/100\n",
      "5359/5359 [==============================] - 2s 405us/sample - loss: 0.4735 - accuracy: 0.7983 - val_loss: 0.4706 - val_accuracy: 0.7959\n",
      "Epoch 5/100\n",
      "5359/5359 [==============================] - 2s 280us/sample - loss: 0.4618 - accuracy: 0.8022 - val_loss: 0.4618 - val_accuracy: 0.7989\n",
      "Epoch 6/100\n",
      "5359/5359 [==============================] - 1s 256us/sample - loss: 0.4531 - accuracy: 0.8044 - val_loss: 0.4567 - val_accuracy: 0.7986\n",
      "Epoch 7/100\n",
      "5359/5359 [==============================] - 2s 285us/sample - loss: 0.4469 - accuracy: 0.8067 - val_loss: 0.4509 - val_accuracy: 0.8012\n",
      "Epoch 8/100\n",
      "5359/5359 [==============================] - 1s 255us/sample - loss: 0.4417 - accuracy: 0.8076 - val_loss: 0.4478 - val_accuracy: 0.8027\n",
      "Epoch 9/100\n",
      "5359/5359 [==============================] - 1s 279us/sample - loss: 0.4374 - accuracy: 0.8091 - val_loss: 0.4444 - val_accuracy: 0.8080\n",
      "Epoch 10/100\n",
      "5359/5359 [==============================] - 1s 271us/sample - loss: 0.4340 - accuracy: 0.8102 - val_loss: 0.4426 - val_accuracy: 0.8092\n",
      "Epoch 11/100\n",
      "5359/5359 [==============================] - 1s 274us/sample - loss: 0.4309 - accuracy: 0.8123 - val_loss: 0.4405 - val_accuracy: 0.8099\n",
      "Epoch 12/100\n",
      "5359/5359 [==============================] - 2s 311us/sample - loss: 0.4283 - accuracy: 0.8115 - val_loss: 0.4388 - val_accuracy: 0.8107\n",
      "Epoch 13/100\n",
      "5359/5359 [==============================] - 2s 283us/sample - loss: 0.4255 - accuracy: 0.8123 - val_loss: 0.4364 - val_accuracy: 0.8137\n",
      "Epoch 14/100\n",
      "5359/5359 [==============================] - 2s 283us/sample - loss: 0.4223 - accuracy: 0.8147 - val_loss: 0.4340 - val_accuracy: 0.8145\n",
      "Epoch 15/100\n",
      "5359/5359 [==============================] - 2s 282us/sample - loss: 0.4193 - accuracy: 0.8143 - val_loss: 0.4321 - val_accuracy: 0.8141\n",
      "Epoch 16/100\n",
      "5359/5359 [==============================] - 2s 294us/sample - loss: 0.4165 - accuracy: 0.8162 - val_loss: 0.4303 - val_accuracy: 0.8148\n",
      "Epoch 17/100\n",
      "5359/5359 [==============================] - 1s 279us/sample - loss: 0.4133 - accuracy: 0.8171 - val_loss: 0.4280 - val_accuracy: 0.8175\n",
      "Epoch 18/100\n",
      "5359/5359 [==============================] - 2s 354us/sample - loss: 0.4103 - accuracy: 0.8214 - val_loss: 0.4261 - val_accuracy: 0.8156\n",
      "Epoch 19/100\n",
      "5359/5359 [==============================] - 2s 313us/sample - loss: 0.4072 - accuracy: 0.8238 - val_loss: 0.4235 - val_accuracy: 0.8183\n",
      "Epoch 20/100\n",
      "5359/5359 [==============================] - 1s 265us/sample - loss: 0.4036 - accuracy: 0.8270 - val_loss: 0.4219 - val_accuracy: 0.8198\n",
      "Epoch 21/100\n",
      "5359/5359 [==============================] - 1s 264us/sample - loss: 0.4000 - accuracy: 0.8300 - val_loss: 0.4182 - val_accuracy: 0.8254\n",
      "Epoch 22/100\n",
      "5359/5359 [==============================] - 1s 261us/sample - loss: 0.3962 - accuracy: 0.8328 - val_loss: 0.4155 - val_accuracy: 0.8258\n",
      "Epoch 23/100\n",
      "5359/5359 [==============================] - 1s 259us/sample - loss: 0.3921 - accuracy: 0.8360 - val_loss: 0.4119 - val_accuracy: 0.8277\n",
      "Epoch 24/100\n",
      "5359/5359 [==============================] - 1s 263us/sample - loss: 0.3873 - accuracy: 0.8406 - val_loss: 0.4078 - val_accuracy: 0.8304\n",
      "Epoch 25/100\n",
      "5359/5359 [==============================] - 1s 261us/sample - loss: 0.3828 - accuracy: 0.8419 - val_loss: 0.4045 - val_accuracy: 0.8338\n",
      "Epoch 26/100\n",
      "5359/5359 [==============================] - 1s 261us/sample - loss: 0.3786 - accuracy: 0.8466 - val_loss: 0.4007 - val_accuracy: 0.8342\n",
      "Epoch 27/100\n",
      "5359/5359 [==============================] - 1s 264us/sample - loss: 0.3750 - accuracy: 0.8461 - val_loss: 0.3979 - val_accuracy: 0.8376\n",
      "Epoch 28/100\n",
      "5359/5359 [==============================] - 1s 265us/sample - loss: 0.3715 - accuracy: 0.8485 - val_loss: 0.3952 - val_accuracy: 0.8376\n",
      "Epoch 29/100\n",
      "5359/5359 [==============================] - 1s 262us/sample - loss: 0.3680 - accuracy: 0.8490 - val_loss: 0.3923 - val_accuracy: 0.8395\n",
      "Epoch 30/100\n",
      "5359/5359 [==============================] - 1s 262us/sample - loss: 0.3650 - accuracy: 0.8524 - val_loss: 0.3905 - val_accuracy: 0.8402\n",
      "Epoch 31/100\n",
      "5359/5359 [==============================] - 1s 264us/sample - loss: 0.3622 - accuracy: 0.8515 - val_loss: 0.3878 - val_accuracy: 0.8425\n",
      "Epoch 32/100\n",
      "5359/5359 [==============================] - 1s 262us/sample - loss: 0.3595 - accuracy: 0.8524 - val_loss: 0.3854 - val_accuracy: 0.8451\n",
      "Epoch 33/100\n",
      "5359/5359 [==============================] - 1s 261us/sample - loss: 0.3570 - accuracy: 0.8539 - val_loss: 0.3836 - val_accuracy: 0.8448\n",
      "Epoch 34/100\n",
      "5359/5359 [==============================] - 1s 261us/sample - loss: 0.3550 - accuracy: 0.8543 - val_loss: 0.3815 - val_accuracy: 0.8470\n",
      "Epoch 35/100\n",
      "5359/5359 [==============================] - 1s 258us/sample - loss: 0.3529 - accuracy: 0.8548 - val_loss: 0.3802 - val_accuracy: 0.8455\n",
      "Epoch 36/100\n",
      "5359/5359 [==============================] - 1s 263us/sample - loss: 0.3513 - accuracy: 0.8567 - val_loss: 0.3782 - val_accuracy: 0.8455\n",
      "Epoch 37/100\n",
      "5359/5359 [==============================] - 1s 260us/sample - loss: 0.3495 - accuracy: 0.8567 - val_loss: 0.3765 - val_accuracy: 0.8474\n",
      "Epoch 38/100\n",
      "5359/5359 [==============================] - 1s 257us/sample - loss: 0.3480 - accuracy: 0.8587 - val_loss: 0.3751 - val_accuracy: 0.8482\n",
      "Epoch 39/100\n",
      "5359/5359 [==============================] - 1s 257us/sample - loss: 0.3464 - accuracy: 0.8582 - val_loss: 0.3740 - val_accuracy: 0.8497\n",
      "Epoch 40/100\n",
      "5359/5359 [==============================] - 1s 259us/sample - loss: 0.3452 - accuracy: 0.8584 - val_loss: 0.3726 - val_accuracy: 0.8470\n",
      "Epoch 41/100\n",
      "5359/5359 [==============================] - 1s 257us/sample - loss: 0.3438 - accuracy: 0.8591 - val_loss: 0.3718 - val_accuracy: 0.8485\n",
      "Epoch 42/100\n",
      "5359/5359 [==============================] - 1s 258us/sample - loss: 0.3427 - accuracy: 0.8586 - val_loss: 0.3703 - val_accuracy: 0.8493\n",
      "Epoch 43/100\n",
      "5359/5359 [==============================] - 1s 258us/sample - loss: 0.3416 - accuracy: 0.8587 - val_loss: 0.3695 - val_accuracy: 0.8497\n",
      "Epoch 44/100\n",
      "5359/5359 [==============================] - 1s 257us/sample - loss: 0.3407 - accuracy: 0.8587 - val_loss: 0.3688 - val_accuracy: 0.8489\n",
      "Epoch 45/100\n",
      "5359/5359 [==============================] - 1s 259us/sample - loss: 0.3397 - accuracy: 0.8602 - val_loss: 0.3679 - val_accuracy: 0.8478\n",
      "Epoch 46/100\n",
      "5359/5359 [==============================] - 1s 258us/sample - loss: 0.3390 - accuracy: 0.8580 - val_loss: 0.3672 - val_accuracy: 0.8489\n",
      "Epoch 47/100\n",
      "5359/5359 [==============================] - 1s 260us/sample - loss: 0.3383 - accuracy: 0.8597 - val_loss: 0.3668 - val_accuracy: 0.8485\n",
      "Epoch 48/100\n",
      "5359/5359 [==============================] - 1s 258us/sample - loss: 0.3377 - accuracy: 0.8595 - val_loss: 0.3662 - val_accuracy: 0.8482\n",
      "Epoch 49/100\n",
      "5359/5359 [==============================] - 1s 258us/sample - loss: 0.3373 - accuracy: 0.8604 - val_loss: 0.3657 - val_accuracy: 0.8474\n",
      "Epoch 50/100\n",
      "5359/5359 [==============================] - 1s 256us/sample - loss: 0.3366 - accuracy: 0.8591 - val_loss: 0.3654 - val_accuracy: 0.8508\n",
      "Epoch 51/100\n",
      "5359/5359 [==============================] - 1s 258us/sample - loss: 0.3362 - accuracy: 0.8612 - val_loss: 0.3652 - val_accuracy: 0.8489\n",
      "Epoch 52/100\n",
      "5359/5359 [==============================] - 1s 257us/sample - loss: 0.3358 - accuracy: 0.8627 - val_loss: 0.3644 - val_accuracy: 0.8497\n",
      "Epoch 53/100\n",
      "5359/5359 [==============================] - 1s 258us/sample - loss: 0.3354 - accuracy: 0.8606 - val_loss: 0.3641 - val_accuracy: 0.8516\n",
      "Epoch 54/100\n",
      "5359/5359 [==============================] - 1s 260us/sample - loss: 0.3350 - accuracy: 0.8621 - val_loss: 0.3637 - val_accuracy: 0.8519\n",
      "Epoch 55/100\n"
     ]
    },
    {
     "name": "stdout",
     "output_type": "stream",
     "text": [
      "5359/5359 [==============================] - 1s 253us/sample - loss: 0.3348 - accuracy: 0.8612 - val_loss: 0.3634 - val_accuracy: 0.8501\n",
      "Epoch 56/100\n",
      "5359/5359 [==============================] - 1s 254us/sample - loss: 0.3345 - accuracy: 0.8614 - val_loss: 0.3631 - val_accuracy: 0.8485\n",
      "Epoch 57/100\n",
      "5359/5359 [==============================] - 1s 254us/sample - loss: 0.3341 - accuracy: 0.8630 - val_loss: 0.3627 - val_accuracy: 0.8482\n",
      "Epoch 58/100\n",
      "5359/5359 [==============================] - 1s 254us/sample - loss: 0.3337 - accuracy: 0.8638 - val_loss: 0.3626 - val_accuracy: 0.8497\n",
      "Epoch 59/100\n",
      "5359/5359 [==============================] - 1s 255us/sample - loss: 0.3337 - accuracy: 0.8617 - val_loss: 0.3621 - val_accuracy: 0.8489\n",
      "Epoch 60/100\n",
      "5359/5359 [==============================] - 1s 253us/sample - loss: 0.3332 - accuracy: 0.8625 - val_loss: 0.3620 - val_accuracy: 0.8489\n",
      "Epoch 61/100\n",
      "5359/5359 [==============================] - 1s 258us/sample - loss: 0.3332 - accuracy: 0.8621 - val_loss: 0.3615 - val_accuracy: 0.8489\n",
      "Epoch 62/100\n",
      "5359/5359 [==============================] - 1s 255us/sample - loss: 0.3329 - accuracy: 0.8632 - val_loss: 0.3613 - val_accuracy: 0.8493\n",
      "Epoch 63/100\n",
      "5359/5359 [==============================] - 1s 256us/sample - loss: 0.3325 - accuracy: 0.8634 - val_loss: 0.3611 - val_accuracy: 0.8489\n",
      "Epoch 64/100\n",
      "5359/5359 [==============================] - 1s 256us/sample - loss: 0.3324 - accuracy: 0.8625 - val_loss: 0.3609 - val_accuracy: 0.8489\n",
      "Epoch 65/100\n",
      "5359/5359 [==============================] - 1s 256us/sample - loss: 0.3321 - accuracy: 0.8628 - val_loss: 0.3606 - val_accuracy: 0.8482\n",
      "Epoch 66/100\n",
      "5359/5359 [==============================] - 2s 294us/sample - loss: 0.3320 - accuracy: 0.8627 - val_loss: 0.3606 - val_accuracy: 0.8493\n",
      "Epoch 67/100\n",
      "5359/5359 [==============================] - 2s 334us/sample - loss: 0.3314 - accuracy: 0.8632 - val_loss: 0.3610 - val_accuracy: 0.8501\n",
      "Epoch 68/100\n",
      "5359/5359 [==============================] - 2s 309us/sample - loss: 0.3317 - accuracy: 0.8623 - val_loss: 0.3602 - val_accuracy: 0.8482\n",
      "Epoch 69/100\n",
      "5359/5359 [==============================] - 2s 291us/sample - loss: 0.3312 - accuracy: 0.8627 - val_loss: 0.3601 - val_accuracy: 0.8478\n",
      "Epoch 70/100\n",
      "5359/5359 [==============================] - 1s 258us/sample - loss: 0.3311 - accuracy: 0.8632 - val_loss: 0.3600 - val_accuracy: 0.8482\n",
      "Epoch 71/100\n",
      "5359/5359 [==============================] - 2s 290us/sample - loss: 0.3310 - accuracy: 0.8636 - val_loss: 0.3600 - val_accuracy: 0.8474\n",
      "Epoch 72/100\n",
      "5359/5359 [==============================] - 2s 295us/sample - loss: 0.3308 - accuracy: 0.8625 - val_loss: 0.3599 - val_accuracy: 0.8474\n",
      "Epoch 73/100\n",
      "5359/5359 [==============================] - 2s 288us/sample - loss: 0.3307 - accuracy: 0.8632 - val_loss: 0.3597 - val_accuracy: 0.8463\n",
      "Epoch 74/100\n",
      "5359/5359 [==============================] - 1s 269us/sample - loss: 0.3304 - accuracy: 0.8625 - val_loss: 0.3596 - val_accuracy: 0.8470\n",
      "Epoch 75/100\n",
      "5359/5359 [==============================] - 1s 268us/sample - loss: 0.3303 - accuracy: 0.8623 - val_loss: 0.3593 - val_accuracy: 0.8463\n",
      "Epoch 76/100\n",
      "5359/5359 [==============================] - 1s 258us/sample - loss: 0.3302 - accuracy: 0.8643 - val_loss: 0.3593 - val_accuracy: 0.8459\n",
      "Epoch 77/100\n",
      "5359/5359 [==============================] - 2s 317us/sample - loss: 0.3300 - accuracy: 0.8638 - val_loss: 0.3590 - val_accuracy: 0.8478\n",
      "Epoch 78/100\n",
      "5359/5359 [==============================] - 2s 297us/sample - loss: 0.3297 - accuracy: 0.8638 - val_loss: 0.3590 - val_accuracy: 0.8482\n",
      "Epoch 79/100\n",
      "5359/5359 [==============================] - 2s 310us/sample - loss: 0.3297 - accuracy: 0.8632 - val_loss: 0.3587 - val_accuracy: 0.8478\n",
      "Epoch 80/100\n",
      "5359/5359 [==============================] - 2s 315us/sample - loss: 0.3296 - accuracy: 0.8651 - val_loss: 0.3585 - val_accuracy: 0.8470\n",
      "Epoch 81/100\n",
      "5359/5359 [==============================] - 2s 318us/sample - loss: 0.3295 - accuracy: 0.8653 - val_loss: 0.3584 - val_accuracy: 0.8482\n",
      "Epoch 82/100\n",
      "5359/5359 [==============================] - 1s 273us/sample - loss: 0.3293 - accuracy: 0.8645 - val_loss: 0.3585 - val_accuracy: 0.8470\n",
      "Epoch 83/100\n",
      "5359/5359 [==============================] - 1s 266us/sample - loss: 0.3293 - accuracy: 0.8634 - val_loss: 0.3584 - val_accuracy: 0.8474\n",
      "Epoch 84/100\n",
      "5359/5359 [==============================] - 1s 277us/sample - loss: 0.3292 - accuracy: 0.8643 - val_loss: 0.3584 - val_accuracy: 0.8478\n",
      "Epoch 85/100\n",
      "5359/5359 [==============================] - 1s 264us/sample - loss: 0.3290 - accuracy: 0.8643 - val_loss: 0.3584 - val_accuracy: 0.8474\n",
      "Epoch 86/100\n",
      "5359/5359 [==============================] - 1s 260us/sample - loss: 0.3289 - accuracy: 0.8642 - val_loss: 0.3582 - val_accuracy: 0.8474\n",
      "Epoch 87/100\n",
      "5359/5359 [==============================] - 1s 262us/sample - loss: 0.3287 - accuracy: 0.8658 - val_loss: 0.3585 - val_accuracy: 0.8501\n",
      "Epoch 88/100\n",
      "5359/5359 [==============================] - 1s 260us/sample - loss: 0.3288 - accuracy: 0.8642 - val_loss: 0.3582 - val_accuracy: 0.8478\n",
      "Epoch 89/100\n",
      "5359/5359 [==============================] - 1s 260us/sample - loss: 0.3285 - accuracy: 0.8649 - val_loss: 0.3579 - val_accuracy: 0.8482\n",
      "Epoch 90/100\n",
      "5359/5359 [==============================] - 1s 257us/sample - loss: 0.3285 - accuracy: 0.8658 - val_loss: 0.3579 - val_accuracy: 0.8501\n",
      "Epoch 91/100\n",
      "5359/5359 [==============================] - 1s 260us/sample - loss: 0.3286 - accuracy: 0.8658 - val_loss: 0.3580 - val_accuracy: 0.8470\n",
      "Epoch 92/100\n",
      "5359/5359 [==============================] - 1s 271us/sample - loss: 0.3281 - accuracy: 0.8651 - val_loss: 0.3581 - val_accuracy: 0.8508\n",
      "Epoch 93/100\n",
      "5359/5359 [==============================] - 1s 274us/sample - loss: 0.3284 - accuracy: 0.8645 - val_loss: 0.3579 - val_accuracy: 0.8482\n",
      "Epoch 94/100\n",
      "5359/5359 [==============================] - 1s 261us/sample - loss: 0.3282 - accuracy: 0.8660 - val_loss: 0.3578 - val_accuracy: 0.8489\n",
      "Epoch 95/100\n",
      "5359/5359 [==============================] - 1s 280us/sample - loss: 0.3282 - accuracy: 0.8656 - val_loss: 0.3581 - val_accuracy: 0.8489\n",
      "Epoch 96/100\n",
      "5359/5359 [==============================] - 1s 269us/sample - loss: 0.3281 - accuracy: 0.8662 - val_loss: 0.3580 - val_accuracy: 0.8493\n",
      "Epoch 97/100\n",
      "5359/5359 [==============================] - 1s 261us/sample - loss: 0.3279 - accuracy: 0.8662 - val_loss: 0.3582 - val_accuracy: 0.8493\n",
      "Epoch 98/100\n",
      "5359/5359 [==============================] - 1s 258us/sample - loss: 0.3279 - accuracy: 0.8651 - val_loss: 0.3581 - val_accuracy: 0.8482\n",
      "Epoch 99/100\n",
      "5359/5359 [==============================] - 1s 263us/sample - loss: 0.3277 - accuracy: 0.8651 - val_loss: 0.3580 - val_accuracy: 0.8493\n",
      "Epoch 100/100\n",
      "5359/5359 [==============================] - 1s 266us/sample - loss: 0.3277 - accuracy: 0.8658 - val_loss: 0.3581 - val_accuracy: 0.8485\n"
     ]
    }
   ],
   "source": [
    "model_history=classifier.fit(X_train, y_train,validation_split=0.33, batch_size = 10, epochs = 100)"
   ]
  },
  {
   "cell_type": "code",
   "execution_count": 58,
   "metadata": {},
   "outputs": [
    {
     "name": "stdout",
     "output_type": "stream",
     "text": [
      "dict_keys(['loss', 'accuracy', 'val_loss', 'val_accuracy'])\n"
     ]
    }
   ],
   "source": [
    "print(model_history.history.keys())"
   ]
  },
  {
   "cell_type": "code",
   "execution_count": 69,
   "metadata": {},
   "outputs": [
    {
     "data": {
      "text/plain": [
       "Text(0.5, 1.0, 'loss vs Epochs')"
      ]
     },
     "execution_count": 69,
     "metadata": {},
     "output_type": "execute_result"
    },
    {
     "data": {
      "image/png": "[encoded data removed]",
      "text/plain": [
       "<Figure size 432x288 with 1 Axes>"
      ]
     },
     "metadata": {
      "needs_background": "light"
     },
     "output_type": "display_data"
    }
   ],
   "source": [
    "plt.plot(model_history.history['loss'],'r',label='loss')\n",
    "plt.plot(model_history.history['val_loss'],'b',label='val_loss')\n",
    "plt.legend()\n",
    "plt.xlabel('epochs')\n",
    "plt.ylabel('loss')\n",
    "plt.title('loss vs Epochs')"
   ]
  },
  {
   "cell_type": "code",
   "execution_count": 70,
   "metadata": {},
   "outputs": [
    {
     "data": {
      "text/plain": [
       "Text(0.5, 1.0, 'acc vs epochs')"
      ]
     },
     "execution_count": 70,
     "metadata": {},
     "output_type": "execute_result"
    },
    {
     "data": {
      "image/png": "[encoded data removed]",
      "text/plain": [
       "<Figure size 432x288 with 1 Axes>"
      ]
     },
     "metadata": {
      "needs_background": "light"
     },
     "output_type": "display_data"
    }
   ],
   "source": [
    "plt.plot(model_history.history['accuracy'],'r',label='acc')\n",
    "plt.plot(model_history.history['val_accuracy'],'b',label='val_acc')\n",
    "plt.legend()\n",
    "plt.xlabel('epochs')\n",
    "plt.ylabel('acc')\n",
    "plt.title('acc vs epochs')"
   ]
  },
  {
   "cell_type": "code",
   "execution_count": 72,
   "metadata": {},
   "outputs": [
    {
     "data": {
      "text/plain": [
       "array([[False],\n",
       "       [False],\n",
       "       [False],\n",
       "       ...,\n",
       "       [False],\n",
       "       [False],\n",
       "       [False]])"
      ]
     },
     "execution_count": 72,
     "metadata": {},
     "output_type": "execute_result"
    }
   ],
   "source": [
    "y_pred = classifier.predict(X_val)\n",
    "y_pred = (y_pred > 0.5)\n",
    "y_pred"
   ]
  },
  {
   "cell_type": "code",
   "execution_count": 73,
   "metadata": {},
   "outputs": [],
   "source": [
    "from sklearn.metrics import confusion_matrix\n",
    "cm = confusion_matrix(y_val, y_pred)"
   ]
  },
  {
   "cell_type": "code",
   "execution_count": 75,
   "metadata": {},
   "outputs": [
    {
     "data": {
      "text/plain": [
       "array([[1606,    1],\n",
       "       [ 392,    1]])"
      ]
     },
     "execution_count": 75,
     "metadata": {},
     "output_type": "execute_result"
    }
   ],
   "source": [
    "cm"
   ]
  },
  {
   "cell_type": "code",
   "execution_count": 77,
   "metadata": {},
   "outputs": [],
   "source": [
    "from sklearn.metrics import accuracy_score\n",
    "score=accuracy_score(y_pred,y_val)"
   ]
  },
  {
   "cell_type": "code",
   "execution_count": 78,
   "metadata": {},
   "outputs": [
    {
     "data": {
      "text/plain": [
       "0.8035"
      ]
     },
     "execution_count": 78,
     "metadata": {},
     "output_type": "execute_result"
    }
   ],
   "source": [
    "score"
   ]
  },
  {
   "cell_type": "code",
   "execution_count": null,
   "metadata": {},
   "outputs": [],
   "source": []
  }
 ],
 "metadata": {
  "kernelspec": {
   "display_name": "Python 3",
   "language": "python",
   "name": "python3"
  },
  "language_info": {
   "codemirror_mode": {
    "name": "ipython",
    "version": 3
   },
   "file_extension": ".py",
   "mimetype": "text/x-python",
   "name": "python",
   "nbconvert_exporter": "python",
   "pygments_lexer": "ipython3",
   "version": "3.6.9"
  }
 },
 "nbformat": 4,
 "nbformat_minor": 2
}
